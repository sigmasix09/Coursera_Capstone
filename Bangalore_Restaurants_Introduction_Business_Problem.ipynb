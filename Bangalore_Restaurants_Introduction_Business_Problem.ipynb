{
 "cells": [
  {
   "cell_type": "markdown",
   "metadata": {},
   "source": [
    "## PROJECT NAME: BANGALORE RESTAURANTS"
   ]
  },
  {
   "cell_type": "markdown",
   "metadata": {},
   "source": [
    "### INTRODUCTION / BUSINESS PROBLEM"
   ]
  },
  {
   "cell_type": "markdown",
   "metadata": {},
   "source": [
    "#### Bangalore is the IT Hub of Indian subcontinent where people from all over the country and from abroad come for education, business and securing good jobs. The commute services are good in the city but the major problem lies in the food cuisine and accomodation. As people from various ethnic groups come to Bangalore and search for a place to settle, they find out the there are not food services and restaurants that suits their cusine and taste. On the other hand, people who who try to setup there catering and food business in the city face a lot of competition if they are unaware of the food market. Following the problem points for various group of people:\n",
    "\n",
    "#### a. Studies and professionals coming from other states or countries find it difficult to find a good place to eat their preferred cuisine.\n",
    "\n",
    "#### b. Enterprenuers who wishes to start a new business do not understand the cuisine of city and where to open the restaurant, where certain cuisines are dominating, where they have greater opportunity to grow.\n",
    "\n",
    "#### c. People who wants to try other cuisine find it difficult to narrow down the search for it and it beomes tedious to find right restaurant near them."
   ]
  }
 ],
 "metadata": {
  "kernelspec": {
   "display_name": "Python 3",
   "language": "python",
   "name": "python3"
  },
  "language_info": {
   "codemirror_mode": {
    "name": "ipython",
    "version": 3
   },
   "file_extension": ".py",
   "mimetype": "text/x-python",
   "name": "python",
   "nbconvert_exporter": "python",
   "pygments_lexer": "ipython3",
   "version": "3.7.9"
  }
 },
 "nbformat": 4,
 "nbformat_minor": 4
}
